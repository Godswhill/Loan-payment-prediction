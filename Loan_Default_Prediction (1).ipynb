{
  "nbformat": 4,
  "nbformat_minor": 0,
  "metadata": {
    "colab": {
      "provenance": []
    },
    "kernelspec": {
      "name": "python3",
      "display_name": "Python 3"
    },
    "language_info": {
      "name": "python"
    }
  },
  "cells": [
    {
      "cell_type": "code",
      "execution_count": 319,
      "metadata": {
        "id": "X6KJou4EoY6W"
      },
      "outputs": [],
      "source": [
        "import pandas as pd\n",
        "import numpy as np\n",
        "import matplotlib.pyplot as plt\n",
        "import seaborn as sns\n",
        "import sklearn"
      ]
    },
    {
      "cell_type": "code",
      "source": [
        "data = pd.read_csv(r\"/content/hmeq_Loan_Default.csv\")"
      ],
      "metadata": {
        "id": "j4TjV88bVvFc"
      },
      "execution_count": 320,
      "outputs": []
    },
    {
      "cell_type": "code",
      "source": [
        "data.head()"
      ],
      "metadata": {
        "id": "oQyiXmu3WidG",
        "colab": {
          "base_uri": "https://localhost:8080/",
          "height": 206
        },
        "outputId": "0159fd54-3a84-4c8e-a909-590cf38db025"
      },
      "execution_count": 321,
      "outputs": [
        {
          "output_type": "execute_result",
          "data": {
            "text/plain": [
              "   BAD  LOAN  MORTDUE     VALUE   REASON     JOB   YOJ  DEROG  DELINQ  CLAGE  \\\n",
              "0    1  1100 25860.00  39025.00  HomeImp   Other 10.50   0.00    0.00  94.37   \n",
              "1    1  1300 70053.00  68400.00  HomeImp   Other  7.00   0.00    2.00 121.83   \n",
              "2    1  1500 13500.00  16700.00  HomeImp   Other  4.00   0.00    0.00 149.47   \n",
              "3    1  1500      NaN       NaN      NaN     NaN   NaN    NaN     NaN    NaN   \n",
              "4    0  1700 97800.00 112000.00  HomeImp  Office  3.00   0.00    0.00  93.33   \n",
              "\n",
              "   NINQ  CLNO  DEBTINC  \n",
              "0  1.00  9.00      NaN  \n",
              "1  0.00 14.00      NaN  \n",
              "2  1.00 10.00      NaN  \n",
              "3   NaN   NaN      NaN  \n",
              "4  0.00 14.00      NaN  "
            ],
            "text/html": [
              "\n",
              "  <div id=\"df-ff9544cc-4d85-43e6-ad24-0796a39be85d\" class=\"colab-df-container\">\n",
              "    <div>\n",
              "<style scoped>\n",
              "    .dataframe tbody tr th:only-of-type {\n",
              "        vertical-align: middle;\n",
              "    }\n",
              "\n",
              "    .dataframe tbody tr th {\n",
              "        vertical-align: top;\n",
              "    }\n",
              "\n",
              "    .dataframe thead th {\n",
              "        text-align: right;\n",
              "    }\n",
              "</style>\n",
              "<table border=\"1\" class=\"dataframe\">\n",
              "  <thead>\n",
              "    <tr style=\"text-align: right;\">\n",
              "      <th></th>\n",
              "      <th>BAD</th>\n",
              "      <th>LOAN</th>\n",
              "      <th>MORTDUE</th>\n",
              "      <th>VALUE</th>\n",
              "      <th>REASON</th>\n",
              "      <th>JOB</th>\n",
              "      <th>YOJ</th>\n",
              "      <th>DEROG</th>\n",
              "      <th>DELINQ</th>\n",
              "      <th>CLAGE</th>\n",
              "      <th>NINQ</th>\n",
              "      <th>CLNO</th>\n",
              "      <th>DEBTINC</th>\n",
              "    </tr>\n",
              "  </thead>\n",
              "  <tbody>\n",
              "    <tr>\n",
              "      <th>0</th>\n",
              "      <td>1</td>\n",
              "      <td>1100</td>\n",
              "      <td>25860.00</td>\n",
              "      <td>39025.00</td>\n",
              "      <td>HomeImp</td>\n",
              "      <td>Other</td>\n",
              "      <td>10.50</td>\n",
              "      <td>0.00</td>\n",
              "      <td>0.00</td>\n",
              "      <td>94.37</td>\n",
              "      <td>1.00</td>\n",
              "      <td>9.00</td>\n",
              "      <td>NaN</td>\n",
              "    </tr>\n",
              "    <tr>\n",
              "      <th>1</th>\n",
              "      <td>1</td>\n",
              "      <td>1300</td>\n",
              "      <td>70053.00</td>\n",
              "      <td>68400.00</td>\n",
              "      <td>HomeImp</td>\n",
              "      <td>Other</td>\n",
              "      <td>7.00</td>\n",
              "      <td>0.00</td>\n",
              "      <td>2.00</td>\n",
              "      <td>121.83</td>\n",
              "      <td>0.00</td>\n",
              "      <td>14.00</td>\n",
              "      <td>NaN</td>\n",
              "    </tr>\n",
              "    <tr>\n",
              "      <th>2</th>\n",
              "      <td>1</td>\n",
              "      <td>1500</td>\n",
              "      <td>13500.00</td>\n",
              "      <td>16700.00</td>\n",
              "      <td>HomeImp</td>\n",
              "      <td>Other</td>\n",
              "      <td>4.00</td>\n",
              "      <td>0.00</td>\n",
              "      <td>0.00</td>\n",
              "      <td>149.47</td>\n",
              "      <td>1.00</td>\n",
              "      <td>10.00</td>\n",
              "      <td>NaN</td>\n",
              "    </tr>\n",
              "    <tr>\n",
              "      <th>3</th>\n",
              "      <td>1</td>\n",
              "      <td>1500</td>\n",
              "      <td>NaN</td>\n",
              "      <td>NaN</td>\n",
              "      <td>NaN</td>\n",
              "      <td>NaN</td>\n",
              "      <td>NaN</td>\n",
              "      <td>NaN</td>\n",
              "      <td>NaN</td>\n",
              "      <td>NaN</td>\n",
              "      <td>NaN</td>\n",
              "      <td>NaN</td>\n",
              "      <td>NaN</td>\n",
              "    </tr>\n",
              "    <tr>\n",
              "      <th>4</th>\n",
              "      <td>0</td>\n",
              "      <td>1700</td>\n",
              "      <td>97800.00</td>\n",
              "      <td>112000.00</td>\n",
              "      <td>HomeImp</td>\n",
              "      <td>Office</td>\n",
              "      <td>3.00</td>\n",
              "      <td>0.00</td>\n",
              "      <td>0.00</td>\n",
              "      <td>93.33</td>\n",
              "      <td>0.00</td>\n",
              "      <td>14.00</td>\n",
              "      <td>NaN</td>\n",
              "    </tr>\n",
              "  </tbody>\n",
              "</table>\n",
              "</div>\n",
              "    <div class=\"colab-df-buttons\">\n",
              "\n",
              "  <div class=\"colab-df-container\">\n",
              "    <button class=\"colab-df-convert\" onclick=\"convertToInteractive('df-ff9544cc-4d85-43e6-ad24-0796a39be85d')\"\n",
              "            title=\"Convert this dataframe to an interactive table.\"\n",
              "            style=\"display:none;\">\n",
              "\n",
              "  <svg xmlns=\"http://www.w3.org/2000/svg\" height=\"24px\" viewBox=\"0 -960 960 960\">\n",
              "    <path d=\"M120-120v-720h720v720H120Zm60-500h600v-160H180v160Zm220 220h160v-160H400v160Zm0 220h160v-160H400v160ZM180-400h160v-160H180v160Zm440 0h160v-160H620v160ZM180-180h160v-160H180v160Zm440 0h160v-160H620v160Z\"/>\n",
              "  </svg>\n",
              "    </button>\n",
              "\n",
              "  <style>\n",
              "    .colab-df-container {\n",
              "      display:flex;\n",
              "      gap: 12px;\n",
              "    }\n",
              "\n",
              "    .colab-df-convert {\n",
              "      background-color: #E8F0FE;\n",
              "      border: none;\n",
              "      border-radius: 50%;\n",
              "      cursor: pointer;\n",
              "      display: none;\n",
              "      fill: #1967D2;\n",
              "      height: 32px;\n",
              "      padding: 0 0 0 0;\n",
              "      width: 32px;\n",
              "    }\n",
              "\n",
              "    .colab-df-convert:hover {\n",
              "      background-color: #E2EBFA;\n",
              "      box-shadow: 0px 1px 2px rgba(60, 64, 67, 0.3), 0px 1px 3px 1px rgba(60, 64, 67, 0.15);\n",
              "      fill: #174EA6;\n",
              "    }\n",
              "\n",
              "    .colab-df-buttons div {\n",
              "      margin-bottom: 4px;\n",
              "    }\n",
              "\n",
              "    [theme=dark] .colab-df-convert {\n",
              "      background-color: #3B4455;\n",
              "      fill: #D2E3FC;\n",
              "    }\n",
              "\n",
              "    [theme=dark] .colab-df-convert:hover {\n",
              "      background-color: #434B5C;\n",
              "      box-shadow: 0px 1px 3px 1px rgba(0, 0, 0, 0.15);\n",
              "      filter: drop-shadow(0px 1px 2px rgba(0, 0, 0, 0.3));\n",
              "      fill: #FFFFFF;\n",
              "    }\n",
              "  </style>\n",
              "\n",
              "    <script>\n",
              "      const buttonEl =\n",
              "        document.querySelector('#df-ff9544cc-4d85-43e6-ad24-0796a39be85d button.colab-df-convert');\n",
              "      buttonEl.style.display =\n",
              "        google.colab.kernel.accessAllowed ? 'block' : 'none';\n",
              "\n",
              "      async function convertToInteractive(key) {\n",
              "        const element = document.querySelector('#df-ff9544cc-4d85-43e6-ad24-0796a39be85d');\n",
              "        const dataTable =\n",
              "          await google.colab.kernel.invokeFunction('convertToInteractive',\n",
              "                                                    [key], {});\n",
              "        if (!dataTable) return;\n",
              "\n",
              "        const docLinkHtml = 'Like what you see? Visit the ' +\n",
              "          '<a target=\"_blank\" href=https://colab.research.google.com/notebooks/data_table.ipynb>data table notebook</a>'\n",
              "          + ' to learn more about interactive tables.';\n",
              "        element.innerHTML = '';\n",
              "        dataTable['output_type'] = 'display_data';\n",
              "        await google.colab.output.renderOutput(dataTable, element);\n",
              "        const docLink = document.createElement('div');\n",
              "        docLink.innerHTML = docLinkHtml;\n",
              "        element.appendChild(docLink);\n",
              "      }\n",
              "    </script>\n",
              "  </div>\n",
              "\n",
              "\n",
              "<div id=\"df-78f84a6f-8edd-4f40-81ee-2a76bc45fe9b\">\n",
              "  <button class=\"colab-df-quickchart\" onclick=\"quickchart('df-78f84a6f-8edd-4f40-81ee-2a76bc45fe9b')\"\n",
              "            title=\"Suggest charts\"\n",
              "            style=\"display:none;\">\n",
              "\n",
              "<svg xmlns=\"http://www.w3.org/2000/svg\" height=\"24px\"viewBox=\"0 0 24 24\"\n",
              "     width=\"24px\">\n",
              "    <g>\n",
              "        <path d=\"M19 3H5c-1.1 0-2 .9-2 2v14c0 1.1.9 2 2 2h14c1.1 0 2-.9 2-2V5c0-1.1-.9-2-2-2zM9 17H7v-7h2v7zm4 0h-2V7h2v10zm4 0h-2v-4h2v4z\"/>\n",
              "    </g>\n",
              "</svg>\n",
              "  </button>\n",
              "\n",
              "<style>\n",
              "  .colab-df-quickchart {\n",
              "      --bg-color: #E8F0FE;\n",
              "      --fill-color: #1967D2;\n",
              "      --hover-bg-color: #E2EBFA;\n",
              "      --hover-fill-color: #174EA6;\n",
              "      --disabled-fill-color: #AAA;\n",
              "      --disabled-bg-color: #DDD;\n",
              "  }\n",
              "\n",
              "  [theme=dark] .colab-df-quickchart {\n",
              "      --bg-color: #3B4455;\n",
              "      --fill-color: #D2E3FC;\n",
              "      --hover-bg-color: #434B5C;\n",
              "      --hover-fill-color: #FFFFFF;\n",
              "      --disabled-bg-color: #3B4455;\n",
              "      --disabled-fill-color: #666;\n",
              "  }\n",
              "\n",
              "  .colab-df-quickchart {\n",
              "    background-color: var(--bg-color);\n",
              "    border: none;\n",
              "    border-radius: 50%;\n",
              "    cursor: pointer;\n",
              "    display: none;\n",
              "    fill: var(--fill-color);\n",
              "    height: 32px;\n",
              "    padding: 0;\n",
              "    width: 32px;\n",
              "  }\n",
              "\n",
              "  .colab-df-quickchart:hover {\n",
              "    background-color: var(--hover-bg-color);\n",
              "    box-shadow: 0 1px 2px rgba(60, 64, 67, 0.3), 0 1px 3px 1px rgba(60, 64, 67, 0.15);\n",
              "    fill: var(--button-hover-fill-color);\n",
              "  }\n",
              "\n",
              "  .colab-df-quickchart-complete:disabled,\n",
              "  .colab-df-quickchart-complete:disabled:hover {\n",
              "    background-color: var(--disabled-bg-color);\n",
              "    fill: var(--disabled-fill-color);\n",
              "    box-shadow: none;\n",
              "  }\n",
              "\n",
              "  .colab-df-spinner {\n",
              "    border: 2px solid var(--fill-color);\n",
              "    border-color: transparent;\n",
              "    border-bottom-color: var(--fill-color);\n",
              "    animation:\n",
              "      spin 1s steps(1) infinite;\n",
              "  }\n",
              "\n",
              "  @keyframes spin {\n",
              "    0% {\n",
              "      border-color: transparent;\n",
              "      border-bottom-color: var(--fill-color);\n",
              "      border-left-color: var(--fill-color);\n",
              "    }\n",
              "    20% {\n",
              "      border-color: transparent;\n",
              "      border-left-color: var(--fill-color);\n",
              "      border-top-color: var(--fill-color);\n",
              "    }\n",
              "    30% {\n",
              "      border-color: transparent;\n",
              "      border-left-color: var(--fill-color);\n",
              "      border-top-color: var(--fill-color);\n",
              "      border-right-color: var(--fill-color);\n",
              "    }\n",
              "    40% {\n",
              "      border-color: transparent;\n",
              "      border-right-color: var(--fill-color);\n",
              "      border-top-color: var(--fill-color);\n",
              "    }\n",
              "    60% {\n",
              "      border-color: transparent;\n",
              "      border-right-color: var(--fill-color);\n",
              "    }\n",
              "    80% {\n",
              "      border-color: transparent;\n",
              "      border-right-color: var(--fill-color);\n",
              "      border-bottom-color: var(--fill-color);\n",
              "    }\n",
              "    90% {\n",
              "      border-color: transparent;\n",
              "      border-bottom-color: var(--fill-color);\n",
              "    }\n",
              "  }\n",
              "</style>\n",
              "\n",
              "  <script>\n",
              "    async function quickchart(key) {\n",
              "      const quickchartButtonEl =\n",
              "        document.querySelector('#' + key + ' button');\n",
              "      quickchartButtonEl.disabled = true;  // To prevent multiple clicks.\n",
              "      quickchartButtonEl.classList.add('colab-df-spinner');\n",
              "      try {\n",
              "        const charts = await google.colab.kernel.invokeFunction(\n",
              "            'suggestCharts', [key], {});\n",
              "      } catch (error) {\n",
              "        console.error('Error during call to suggestCharts:', error);\n",
              "      }\n",
              "      quickchartButtonEl.classList.remove('colab-df-spinner');\n",
              "      quickchartButtonEl.classList.add('colab-df-quickchart-complete');\n",
              "    }\n",
              "    (() => {\n",
              "      let quickchartButtonEl =\n",
              "        document.querySelector('#df-78f84a6f-8edd-4f40-81ee-2a76bc45fe9b button');\n",
              "      quickchartButtonEl.style.display =\n",
              "        google.colab.kernel.accessAllowed ? 'block' : 'none';\n",
              "    })();\n",
              "  </script>\n",
              "</div>\n",
              "\n",
              "    </div>\n",
              "  </div>\n"
            ],
            "application/vnd.google.colaboratory.intrinsic+json": {
              "type": "dataframe",
              "variable_name": "data",
              "summary": "{\n  \"name\": \"data\",\n  \"rows\": 5960,\n  \"fields\": [\n    {\n      \"column\": \"BAD\",\n      \"properties\": {\n        \"dtype\": \"number\",\n        \"std\": 0,\n        \"min\": 0,\n        \"max\": 1,\n        \"num_unique_values\": 2,\n        \"samples\": [\n          0,\n          1\n        ],\n        \"semantic_type\": \"\",\n        \"description\": \"\"\n      }\n    },\n    {\n      \"column\": \"LOAN\",\n      \"properties\": {\n        \"dtype\": \"number\",\n        \"std\": 11207,\n        \"min\": 1100,\n        \"max\": 89900,\n        \"num_unique_values\": 540,\n        \"samples\": [\n          24700,\n          9100\n        ],\n        \"semantic_type\": \"\",\n        \"description\": \"\"\n      }\n    },\n    {\n      \"column\": \"MORTDUE\",\n      \"properties\": {\n        \"dtype\": \"number\",\n        \"std\": 44457.60945841593,\n        \"min\": 2063.0,\n        \"max\": 399550.0,\n        \"num_unique_values\": 5053,\n        \"samples\": [\n          61847.0,\n          37750.0\n        ],\n        \"semantic_type\": \"\",\n        \"description\": \"\"\n      }\n    },\n    {\n      \"column\": \"VALUE\",\n      \"properties\": {\n        \"dtype\": \"number\",\n        \"std\": 57385.775333702615,\n        \"min\": 8000.0,\n        \"max\": 855909.0,\n        \"num_unique_values\": 5381,\n        \"samples\": [\n          41438.0,\n          60640.0\n        ],\n        \"semantic_type\": \"\",\n        \"description\": \"\"\n      }\n    },\n    {\n      \"column\": \"REASON\",\n      \"properties\": {\n        \"dtype\": \"category\",\n        \"num_unique_values\": 2,\n        \"samples\": [\n          \"DebtCon\",\n          \"HomeImp\"\n        ],\n        \"semantic_type\": \"\",\n        \"description\": \"\"\n      }\n    },\n    {\n      \"column\": \"JOB\",\n      \"properties\": {\n        \"dtype\": \"category\",\n        \"num_unique_values\": 6,\n        \"samples\": [\n          \"Other\",\n          \"Office\"\n        ],\n        \"semantic_type\": \"\",\n        \"description\": \"\"\n      }\n    },\n    {\n      \"column\": \"YOJ\",\n      \"properties\": {\n        \"dtype\": \"number\",\n        \"std\": 7.573982248898866,\n        \"min\": 0.0,\n        \"max\": 41.0,\n        \"num_unique_values\": 99,\n        \"samples\": [\n          2.3,\n          1.4\n        ],\n        \"semantic_type\": \"\",\n        \"description\": \"\"\n      }\n    },\n    {\n      \"column\": \"DEROG\",\n      \"properties\": {\n        \"dtype\": \"number\",\n        \"std\": 0.8460467770863184,\n        \"min\": 0.0,\n        \"max\": 10.0,\n        \"num_unique_values\": 11,\n        \"samples\": [\n          5.0,\n          0.0\n        ],\n        \"semantic_type\": \"\",\n        \"description\": \"\"\n      }\n    },\n    {\n      \"column\": \"DELINQ\",\n      \"properties\": {\n        \"dtype\": \"number\",\n        \"std\": 1.1272659176049724,\n        \"min\": 0.0,\n        \"max\": 15.0,\n        \"num_unique_values\": 14,\n        \"samples\": [\n          8.0,\n          12.0\n        ],\n        \"semantic_type\": \"\",\n        \"description\": \"\"\n      }\n    },\n    {\n      \"column\": \"CLAGE\",\n      \"properties\": {\n        \"dtype\": \"number\",\n        \"std\": 85.81009176356652,\n        \"min\": 0.0,\n        \"max\": 1168.2335609,\n        \"num_unique_values\": 5314,\n        \"samples\": [\n          117.16666667,\n          191.1124423\n        ],\n        \"semantic_type\": \"\",\n        \"description\": \"\"\n      }\n    },\n    {\n      \"column\": \"NINQ\",\n      \"properties\": {\n        \"dtype\": \"number\",\n        \"std\": 1.728674971208052,\n        \"min\": 0.0,\n        \"max\": 17.0,\n        \"num_unique_values\": 16,\n        \"samples\": [\n          1.0,\n          0.0\n        ],\n        \"semantic_type\": \"\",\n        \"description\": \"\"\n      }\n    },\n    {\n      \"column\": \"CLNO\",\n      \"properties\": {\n        \"dtype\": \"number\",\n        \"std\": 10.138933192458635,\n        \"min\": 0.0,\n        \"max\": 71.0,\n        \"num_unique_values\": 62,\n        \"samples\": [\n          55.0,\n          53.0\n        ],\n        \"semantic_type\": \"\",\n        \"description\": \"\"\n      }\n    },\n    {\n      \"column\": \"DEBTINC\",\n      \"properties\": {\n        \"dtype\": \"number\",\n        \"std\": 8.60174618632853,\n        \"min\": 0.5244992154,\n        \"max\": 203.31214869,\n        \"num_unique_values\": 4693,\n        \"samples\": [\n          29.549283511,\n          48.277591224\n        ],\n        \"semantic_type\": \"\",\n        \"description\": \"\"\n      }\n    }\n  ]\n}"
            }
          },
          "metadata": {},
          "execution_count": 321
        }
      ]
    },
    {
      "cell_type": "code",
      "source": [
        "data.describe()"
      ],
      "metadata": {
        "id": "dtXFldnm0fqS",
        "colab": {
          "base_uri": "https://localhost:8080/",
          "height": 300
        },
        "outputId": "d34121af-843b-4636-8303-2ffebf6d24d8"
      },
      "execution_count": 322,
      "outputs": [
        {
          "output_type": "execute_result",
          "data": {
            "text/plain": [
              "          BAD     LOAN   MORTDUE     VALUE     YOJ   DEROG  DELINQ   CLAGE  \\\n",
              "count 5960.00  5960.00   5442.00   5848.00 5445.00 5252.00 5380.00 5652.00   \n",
              "mean     0.20 18607.97  73760.82 101776.05    8.92    0.25    0.45  179.77   \n",
              "std      0.40 11207.48  44457.61  57385.78    7.57    0.85    1.13   85.81   \n",
              "min      0.00  1100.00   2063.00   8000.00    0.00    0.00    0.00    0.00   \n",
              "25%      0.00 11100.00  46276.00  66075.50    3.00    0.00    0.00  115.12   \n",
              "50%      0.00 16300.00  65019.00  89235.50    7.00    0.00    0.00  173.47   \n",
              "75%      0.00 23300.00  91488.00 119824.25   13.00    0.00    0.00  231.56   \n",
              "max      1.00 89900.00 399550.00 855909.00   41.00   10.00   15.00 1168.23   \n",
              "\n",
              "         NINQ    CLNO  DEBTINC  \n",
              "count 5450.00 5738.00  4693.00  \n",
              "mean     1.19   21.30    33.78  \n",
              "std      1.73   10.14     8.60  \n",
              "min      0.00    0.00     0.52  \n",
              "25%      0.00   15.00    29.14  \n",
              "50%      1.00   20.00    34.82  \n",
              "75%      2.00   26.00    39.00  \n",
              "max     17.00   71.00   203.31  "
            ],
            "text/html": [
              "\n",
              "  <div id=\"df-2a2ae5b0-108d-4f33-a47a-196ad66c893d\" class=\"colab-df-container\">\n",
              "    <div>\n",
              "<style scoped>\n",
              "    .dataframe tbody tr th:only-of-type {\n",
              "        vertical-align: middle;\n",
              "    }\n",
              "\n",
              "    .dataframe tbody tr th {\n",
              "        vertical-align: top;\n",
              "    }\n",
              "\n",
              "    .dataframe thead th {\n",
              "        text-align: right;\n",
              "    }\n",
              "</style>\n",
              "<table border=\"1\" class=\"dataframe\">\n",
              "  <thead>\n",
              "    <tr style=\"text-align: right;\">\n",
              "      <th></th>\n",
              "      <th>BAD</th>\n",
              "      <th>LOAN</th>\n",
              "      <th>MORTDUE</th>\n",
              "      <th>VALUE</th>\n",
              "      <th>YOJ</th>\n",
              "      <th>DEROG</th>\n",
              "      <th>DELINQ</th>\n",
              "      <th>CLAGE</th>\n",
              "      <th>NINQ</th>\n",
              "      <th>CLNO</th>\n",
              "      <th>DEBTINC</th>\n",
              "    </tr>\n",
              "  </thead>\n",
              "  <tbody>\n",
              "    <tr>\n",
              "      <th>count</th>\n",
              "      <td>5960.00</td>\n",
              "      <td>5960.00</td>\n",
              "      <td>5442.00</td>\n",
              "      <td>5848.00</td>\n",
              "      <td>5445.00</td>\n",
              "      <td>5252.00</td>\n",
              "      <td>5380.00</td>\n",
              "      <td>5652.00</td>\n",
              "      <td>5450.00</td>\n",
              "      <td>5738.00</td>\n",
              "      <td>4693.00</td>\n",
              "    </tr>\n",
              "    <tr>\n",
              "      <th>mean</th>\n",
              "      <td>0.20</td>\n",
              "      <td>18607.97</td>\n",
              "      <td>73760.82</td>\n",
              "      <td>101776.05</td>\n",
              "      <td>8.92</td>\n",
              "      <td>0.25</td>\n",
              "      <td>0.45</td>\n",
              "      <td>179.77</td>\n",
              "      <td>1.19</td>\n",
              "      <td>21.30</td>\n",
              "      <td>33.78</td>\n",
              "    </tr>\n",
              "    <tr>\n",
              "      <th>std</th>\n",
              "      <td>0.40</td>\n",
              "      <td>11207.48</td>\n",
              "      <td>44457.61</td>\n",
              "      <td>57385.78</td>\n",
              "      <td>7.57</td>\n",
              "      <td>0.85</td>\n",
              "      <td>1.13</td>\n",
              "      <td>85.81</td>\n",
              "      <td>1.73</td>\n",
              "      <td>10.14</td>\n",
              "      <td>8.60</td>\n",
              "    </tr>\n",
              "    <tr>\n",
              "      <th>min</th>\n",
              "      <td>0.00</td>\n",
              "      <td>1100.00</td>\n",
              "      <td>2063.00</td>\n",
              "      <td>8000.00</td>\n",
              "      <td>0.00</td>\n",
              "      <td>0.00</td>\n",
              "      <td>0.00</td>\n",
              "      <td>0.00</td>\n",
              "      <td>0.00</td>\n",
              "      <td>0.00</td>\n",
              "      <td>0.52</td>\n",
              "    </tr>\n",
              "    <tr>\n",
              "      <th>25%</th>\n",
              "      <td>0.00</td>\n",
              "      <td>11100.00</td>\n",
              "      <td>46276.00</td>\n",
              "      <td>66075.50</td>\n",
              "      <td>3.00</td>\n",
              "      <td>0.00</td>\n",
              "      <td>0.00</td>\n",
              "      <td>115.12</td>\n",
              "      <td>0.00</td>\n",
              "      <td>15.00</td>\n",
              "      <td>29.14</td>\n",
              "    </tr>\n",
              "    <tr>\n",
              "      <th>50%</th>\n",
              "      <td>0.00</td>\n",
              "      <td>16300.00</td>\n",
              "      <td>65019.00</td>\n",
              "      <td>89235.50</td>\n",
              "      <td>7.00</td>\n",
              "      <td>0.00</td>\n",
              "      <td>0.00</td>\n",
              "      <td>173.47</td>\n",
              "      <td>1.00</td>\n",
              "      <td>20.00</td>\n",
              "      <td>34.82</td>\n",
              "    </tr>\n",
              "    <tr>\n",
              "      <th>75%</th>\n",
              "      <td>0.00</td>\n",
              "      <td>23300.00</td>\n",
              "      <td>91488.00</td>\n",
              "      <td>119824.25</td>\n",
              "      <td>13.00</td>\n",
              "      <td>0.00</td>\n",
              "      <td>0.00</td>\n",
              "      <td>231.56</td>\n",
              "      <td>2.00</td>\n",
              "      <td>26.00</td>\n",
              "      <td>39.00</td>\n",
              "    </tr>\n",
              "    <tr>\n",
              "      <th>max</th>\n",
              "      <td>1.00</td>\n",
              "      <td>89900.00</td>\n",
              "      <td>399550.00</td>\n",
              "      <td>855909.00</td>\n",
              "      <td>41.00</td>\n",
              "      <td>10.00</td>\n",
              "      <td>15.00</td>\n",
              "      <td>1168.23</td>\n",
              "      <td>17.00</td>\n",
              "      <td>71.00</td>\n",
              "      <td>203.31</td>\n",
              "    </tr>\n",
              "  </tbody>\n",
              "</table>\n",
              "</div>\n",
              "    <div class=\"colab-df-buttons\">\n",
              "\n",
              "  <div class=\"colab-df-container\">\n",
              "    <button class=\"colab-df-convert\" onclick=\"convertToInteractive('df-2a2ae5b0-108d-4f33-a47a-196ad66c893d')\"\n",
              "            title=\"Convert this dataframe to an interactive table.\"\n",
              "            style=\"display:none;\">\n",
              "\n",
              "  <svg xmlns=\"http://www.w3.org/2000/svg\" height=\"24px\" viewBox=\"0 -960 960 960\">\n",
              "    <path d=\"M120-120v-720h720v720H120Zm60-500h600v-160H180v160Zm220 220h160v-160H400v160Zm0 220h160v-160H400v160ZM180-400h160v-160H180v160Zm440 0h160v-160H620v160ZM180-180h160v-160H180v160Zm440 0h160v-160H620v160Z\"/>\n",
              "  </svg>\n",
              "    </button>\n",
              "\n",
              "  <style>\n",
              "    .colab-df-container {\n",
              "      display:flex;\n",
              "      gap: 12px;\n",
              "    }\n",
              "\n",
              "    .colab-df-convert {\n",
              "      background-color: #E8F0FE;\n",
              "      border: none;\n",
              "      border-radius: 50%;\n",
              "      cursor: pointer;\n",
              "      display: none;\n",
              "      fill: #1967D2;\n",
              "      height: 32px;\n",
              "      padding: 0 0 0 0;\n",
              "      width: 32px;\n",
              "    }\n",
              "\n",
              "    .colab-df-convert:hover {\n",
              "      background-color: #E2EBFA;\n",
              "      box-shadow: 0px 1px 2px rgba(60, 64, 67, 0.3), 0px 1px 3px 1px rgba(60, 64, 67, 0.15);\n",
              "      fill: #174EA6;\n",
              "    }\n",
              "\n",
              "    .colab-df-buttons div {\n",
              "      margin-bottom: 4px;\n",
              "    }\n",
              "\n",
              "    [theme=dark] .colab-df-convert {\n",
              "      background-color: #3B4455;\n",
              "      fill: #D2E3FC;\n",
              "    }\n",
              "\n",
              "    [theme=dark] .colab-df-convert:hover {\n",
              "      background-color: #434B5C;\n",
              "      box-shadow: 0px 1px 3px 1px rgba(0, 0, 0, 0.15);\n",
              "      filter: drop-shadow(0px 1px 2px rgba(0, 0, 0, 0.3));\n",
              "      fill: #FFFFFF;\n",
              "    }\n",
              "  </style>\n",
              "\n",
              "    <script>\n",
              "      const buttonEl =\n",
              "        document.querySelector('#df-2a2ae5b0-108d-4f33-a47a-196ad66c893d button.colab-df-convert');\n",
              "      buttonEl.style.display =\n",
              "        google.colab.kernel.accessAllowed ? 'block' : 'none';\n",
              "\n",
              "      async function convertToInteractive(key) {\n",
              "        const element = document.querySelector('#df-2a2ae5b0-108d-4f33-a47a-196ad66c893d');\n",
              "        const dataTable =\n",
              "          await google.colab.kernel.invokeFunction('convertToInteractive',\n",
              "                                                    [key], {});\n",
              "        if (!dataTable) return;\n",
              "\n",
              "        const docLinkHtml = 'Like what you see? Visit the ' +\n",
              "          '<a target=\"_blank\" href=https://colab.research.google.com/notebooks/data_table.ipynb>data table notebook</a>'\n",
              "          + ' to learn more about interactive tables.';\n",
              "        element.innerHTML = '';\n",
              "        dataTable['output_type'] = 'display_data';\n",
              "        await google.colab.output.renderOutput(dataTable, element);\n",
              "        const docLink = document.createElement('div');\n",
              "        docLink.innerHTML = docLinkHtml;\n",
              "        element.appendChild(docLink);\n",
              "      }\n",
              "    </script>\n",
              "  </div>\n",
              "\n",
              "\n",
              "<div id=\"df-c0a30178-0a02-4c6b-8fdc-cca17e2a8388\">\n",
              "  <button class=\"colab-df-quickchart\" onclick=\"quickchart('df-c0a30178-0a02-4c6b-8fdc-cca17e2a8388')\"\n",
              "            title=\"Suggest charts\"\n",
              "            style=\"display:none;\">\n",
              "\n",
              "<svg xmlns=\"http://www.w3.org/2000/svg\" height=\"24px\"viewBox=\"0 0 24 24\"\n",
              "     width=\"24px\">\n",
              "    <g>\n",
              "        <path d=\"M19 3H5c-1.1 0-2 .9-2 2v14c0 1.1.9 2 2 2h14c1.1 0 2-.9 2-2V5c0-1.1-.9-2-2-2zM9 17H7v-7h2v7zm4 0h-2V7h2v10zm4 0h-2v-4h2v4z\"/>\n",
              "    </g>\n",
              "</svg>\n",
              "  </button>\n",
              "\n",
              "<style>\n",
              "  .colab-df-quickchart {\n",
              "      --bg-color: #E8F0FE;\n",
              "      --fill-color: #1967D2;\n",
              "      --hover-bg-color: #E2EBFA;\n",
              "      --hover-fill-color: #174EA6;\n",
              "      --disabled-fill-color: #AAA;\n",
              "      --disabled-bg-color: #DDD;\n",
              "  }\n",
              "\n",
              "  [theme=dark] .colab-df-quickchart {\n",
              "      --bg-color: #3B4455;\n",
              "      --fill-color: #D2E3FC;\n",
              "      --hover-bg-color: #434B5C;\n",
              "      --hover-fill-color: #FFFFFF;\n",
              "      --disabled-bg-color: #3B4455;\n",
              "      --disabled-fill-color: #666;\n",
              "  }\n",
              "\n",
              "  .colab-df-quickchart {\n",
              "    background-color: var(--bg-color);\n",
              "    border: none;\n",
              "    border-radius: 50%;\n",
              "    cursor: pointer;\n",
              "    display: none;\n",
              "    fill: var(--fill-color);\n",
              "    height: 32px;\n",
              "    padding: 0;\n",
              "    width: 32px;\n",
              "  }\n",
              "\n",
              "  .colab-df-quickchart:hover {\n",
              "    background-color: var(--hover-bg-color);\n",
              "    box-shadow: 0 1px 2px rgba(60, 64, 67, 0.3), 0 1px 3px 1px rgba(60, 64, 67, 0.15);\n",
              "    fill: var(--button-hover-fill-color);\n",
              "  }\n",
              "\n",
              "  .colab-df-quickchart-complete:disabled,\n",
              "  .colab-df-quickchart-complete:disabled:hover {\n",
              "    background-color: var(--disabled-bg-color);\n",
              "    fill: var(--disabled-fill-color);\n",
              "    box-shadow: none;\n",
              "  }\n",
              "\n",
              "  .colab-df-spinner {\n",
              "    border: 2px solid var(--fill-color);\n",
              "    border-color: transparent;\n",
              "    border-bottom-color: var(--fill-color);\n",
              "    animation:\n",
              "      spin 1s steps(1) infinite;\n",
              "  }\n",
              "\n",
              "  @keyframes spin {\n",
              "    0% {\n",
              "      border-color: transparent;\n",
              "      border-bottom-color: var(--fill-color);\n",
              "      border-left-color: var(--fill-color);\n",
              "    }\n",
              "    20% {\n",
              "      border-color: transparent;\n",
              "      border-left-color: var(--fill-color);\n",
              "      border-top-color: var(--fill-color);\n",
              "    }\n",
              "    30% {\n",
              "      border-color: transparent;\n",
              "      border-left-color: var(--fill-color);\n",
              "      border-top-color: var(--fill-color);\n",
              "      border-right-color: var(--fill-color);\n",
              "    }\n",
              "    40% {\n",
              "      border-color: transparent;\n",
              "      border-right-color: var(--fill-color);\n",
              "      border-top-color: var(--fill-color);\n",
              "    }\n",
              "    60% {\n",
              "      border-color: transparent;\n",
              "      border-right-color: var(--fill-color);\n",
              "    }\n",
              "    80% {\n",
              "      border-color: transparent;\n",
              "      border-right-color: var(--fill-color);\n",
              "      border-bottom-color: var(--fill-color);\n",
              "    }\n",
              "    90% {\n",
              "      border-color: transparent;\n",
              "      border-bottom-color: var(--fill-color);\n",
              "    }\n",
              "  }\n",
              "</style>\n",
              "\n",
              "  <script>\n",
              "    async function quickchart(key) {\n",
              "      const quickchartButtonEl =\n",
              "        document.querySelector('#' + key + ' button');\n",
              "      quickchartButtonEl.disabled = true;  // To prevent multiple clicks.\n",
              "      quickchartButtonEl.classList.add('colab-df-spinner');\n",
              "      try {\n",
              "        const charts = await google.colab.kernel.invokeFunction(\n",
              "            'suggestCharts', [key], {});\n",
              "      } catch (error) {\n",
              "        console.error('Error during call to suggestCharts:', error);\n",
              "      }\n",
              "      quickchartButtonEl.classList.remove('colab-df-spinner');\n",
              "      quickchartButtonEl.classList.add('colab-df-quickchart-complete');\n",
              "    }\n",
              "    (() => {\n",
              "      let quickchartButtonEl =\n",
              "        document.querySelector('#df-c0a30178-0a02-4c6b-8fdc-cca17e2a8388 button');\n",
              "      quickchartButtonEl.style.display =\n",
              "        google.colab.kernel.accessAllowed ? 'block' : 'none';\n",
              "    })();\n",
              "  </script>\n",
              "</div>\n",
              "\n",
              "    </div>\n",
              "  </div>\n"
            ],
            "application/vnd.google.colaboratory.intrinsic+json": {
              "type": "dataframe",
              "summary": "{\n  \"name\": \"data\",\n  \"rows\": 8,\n  \"fields\": [\n    {\n      \"column\": \"BAD\",\n      \"properties\": {\n        \"dtype\": \"number\",\n        \"std\": 2107.0974668331073,\n        \"min\": 0.0,\n        \"max\": 5960.0,\n        \"num_unique_values\": 5,\n        \"samples\": [\n          0.199496644295302,\n          1.0,\n          0.39965551745026867\n        ],\n        \"semantic_type\": \"\",\n        \"description\": \"\"\n      }\n    },\n    {\n      \"column\": \"LOAN\",\n      \"properties\": {\n        \"dtype\": \"number\",\n        \"std\": 28246.88055767173,\n        \"min\": 1100.0,\n        \"max\": 89900.0,\n        \"num_unique_values\": 8,\n        \"samples\": [\n          18607.96979865772,\n          16300.0,\n          5960.0\n        ],\n        \"semantic_type\": \"\",\n        \"description\": \"\"\n      }\n    },\n    {\n      \"column\": \"MORTDUE\",\n      \"properties\": {\n        \"dtype\": \"number\",\n        \"std\": 128492.3197576729,\n        \"min\": 2063.0,\n        \"max\": 399550.0,\n        \"num_unique_values\": 8,\n        \"samples\": [\n          73760.817199559,\n          65019.0,\n          5442.0\n        ],\n        \"semantic_type\": \"\",\n        \"description\": \"\"\n      }\n    },\n    {\n      \"column\": \"VALUE\",\n      \"properties\": {\n        \"dtype\": \"number\",\n        \"std\": 282955.5934942125,\n        \"min\": 5848.0,\n        \"max\": 855909.0,\n        \"num_unique_values\": 8,\n        \"samples\": [\n          101776.04874145007,\n          89235.5,\n          5848.0\n        ],\n        \"semantic_type\": \"\",\n        \"description\": \"\"\n      }\n    },\n    {\n      \"column\": \"YOJ\",\n      \"properties\": {\n        \"dtype\": \"number\",\n        \"std\": 1921.0741552746226,\n        \"min\": 0.0,\n        \"max\": 5445.0,\n        \"num_unique_values\": 8,\n        \"samples\": [\n          8.922268135904499,\n          7.0,\n          5445.0\n        ],\n        \"semantic_type\": \"\",\n        \"description\": \"\"\n      }\n    },\n    {\n      \"column\": \"DEROG\",\n      \"properties\": {\n        \"dtype\": \"number\",\n        \"std\": 1856.3049421680166,\n        \"min\": 0.0,\n        \"max\": 5252.0,\n        \"num_unique_values\": 5,\n        \"samples\": [\n          0.2545696877380046,\n          10.0,\n          0.8460467770863184\n        ],\n        \"semantic_type\": \"\",\n        \"description\": \"\"\n      }\n    },\n    {\n      \"column\": \"DELINQ\",\n      \"properties\": {\n        \"dtype\": \"number\",\n        \"std\": 1901.2870246854397,\n        \"min\": 0.0,\n        \"max\": 5380.0,\n        \"num_unique_values\": 5,\n        \"samples\": [\n          0.4494423791821561,\n          15.0,\n          1.1272659176049724\n        ],\n        \"semantic_type\": \"\",\n        \"description\": \"\"\n      }\n    },\n    {\n      \"column\": \"CLAGE\",\n      \"properties\": {\n        \"dtype\": \"number\",\n        \"std\": 1935.2075023732148,\n        \"min\": 0.0,\n        \"max\": 5652.0,\n        \"num_unique_values\": 8,\n        \"samples\": [\n          179.76627518656605,\n          173.46666667,\n          5652.0\n        ],\n        \"semantic_type\": \"\",\n        \"description\": \"\"\n      }\n    },\n    {\n      \"column\": \"NINQ\",\n      \"properties\": {\n        \"dtype\": \"number\",\n        \"std\": 1925.7168958149061,\n        \"min\": 0.0,\n        \"max\": 5450.0,\n        \"num_unique_values\": 7,\n        \"samples\": [\n          5450.0,\n          1.1860550458715597,\n          2.0\n        ],\n        \"semantic_type\": \"\",\n        \"description\": \"\"\n      }\n    },\n    {\n      \"column\": \"CLNO\",\n      \"properties\": {\n        \"dtype\": \"number\",\n        \"std\": 2020.5436112913135,\n        \"min\": 0.0,\n        \"max\": 5738.0,\n        \"num_unique_values\": 8,\n        \"samples\": [\n          21.29609620076682,\n          20.0,\n          5738.0\n        ],\n        \"semantic_type\": \"\",\n        \"description\": \"\"\n      }\n    },\n    {\n      \"column\": \"DEBTINC\",\n      \"properties\": {\n        \"dtype\": \"number\",\n        \"std\": 1642.838823716396,\n        \"min\": 0.5244992154,\n        \"max\": 4693.0,\n        \"num_unique_values\": 8,\n        \"samples\": [\n          33.779915348721126,\n          34.818261819,\n          4693.0\n        ],\n        \"semantic_type\": \"\",\n        \"description\": \"\"\n      }\n    }\n  ]\n}"
            }
          },
          "metadata": {},
          "execution_count": 322
        }
      ]
    },
    {
      "cell_type": "code",
      "source": [
        "data.isnull().sum()"
      ],
      "metadata": {
        "id": "voMhZVOzaASW",
        "colab": {
          "base_uri": "https://localhost:8080/"
        },
        "outputId": "939bca43-342d-42f9-f105-9fc9ecb2369d"
      },
      "execution_count": 323,
      "outputs": [
        {
          "output_type": "execute_result",
          "data": {
            "text/plain": [
              "BAD           0\n",
              "LOAN          0\n",
              "MORTDUE     518\n",
              "VALUE       112\n",
              "REASON      252\n",
              "JOB         279\n",
              "YOJ         515\n",
              "DEROG       708\n",
              "DELINQ      580\n",
              "CLAGE       308\n",
              "NINQ        510\n",
              "CLNO        222\n",
              "DEBTINC    1267\n",
              "dtype: int64"
            ]
          },
          "metadata": {},
          "execution_count": 323
        }
      ]
    },
    {
      "cell_type": "code",
      "source": [
        "median_value = data[\"DEBTINC\"].median()\n",
        "print(median_value)\n",
        "data[\"DEBTINC\"].fillna(median_value, inplace=True)"
      ],
      "metadata": {
        "colab": {
          "base_uri": "https://localhost:8080/"
        },
        "id": "pqukuGaJoFwg",
        "outputId": "2ddd45c9-c946-4b9f-d77d-5db22ca76515"
      },
      "execution_count": 324,
      "outputs": [
        {
          "output_type": "stream",
          "name": "stdout",
          "text": [
            "34.818261819\n"
          ]
        }
      ]
    },
    {
      "cell_type": "code",
      "source": [
        "mode_value = data[\"JOB\"].mode()\n",
        "print(mode_value)\n",
        "data[\"JOB\"].fillna(mode_value, inplace=True)"
      ],
      "metadata": {
        "colab": {
          "base_uri": "https://localhost:8080/"
        },
        "id": "1PkZ1bxIoPwa",
        "outputId": "35b7786b-6841-405e-ec5a-53dca6905512"
      },
      "execution_count": 325,
      "outputs": [
        {
          "output_type": "stream",
          "name": "stdout",
          "text": [
            "0    Other\n",
            "Name: JOB, dtype: object\n"
          ]
        }
      ]
    },
    {
      "cell_type": "code",
      "source": [
        "mode_value = data[\"REASON\"].mode()\n",
        "print(mode_value)\n",
        "data[\"REASON\"].fillna(mode_value, inplace=True)"
      ],
      "metadata": {
        "colab": {
          "base_uri": "https://localhost:8080/"
        },
        "id": "w0OMA9SPoZnA",
        "outputId": "9c50ec35-e703-4e05-f7fe-2ad7ee0a4f52"
      },
      "execution_count": 326,
      "outputs": [
        {
          "output_type": "stream",
          "name": "stdout",
          "text": [
            "0    DebtCon\n",
            "Name: REASON, dtype: object\n"
          ]
        }
      ]
    },
    {
      "cell_type": "code",
      "source": [
        "median_value = data[\"MORTDUE\"].median()\n",
        "print(median_value)\n",
        "data[\"MORTDUE\"].fillna(median_value, inplace=True)"
      ],
      "metadata": {
        "colab": {
          "base_uri": "https://localhost:8080/"
        },
        "id": "AOu-r1LnorR_",
        "outputId": "b9f5c980-f57e-49d4-af2b-ec65ddeabeee"
      },
      "execution_count": 327,
      "outputs": [
        {
          "output_type": "stream",
          "name": "stdout",
          "text": [
            "65019.0\n"
          ]
        }
      ]
    },
    {
      "cell_type": "code",
      "source": [
        "median_value = data[\"VALUE\"].median()\n",
        "print(median_value)\n",
        "data[\"VALUE\"].fillna(median_value, inplace=True)"
      ],
      "metadata": {
        "colab": {
          "base_uri": "https://localhost:8080/"
        },
        "id": "E27_FCM-ov-z",
        "outputId": "a95b82ba-df73-42b7-f1c6-b3b960c9ba50"
      },
      "execution_count": 328,
      "outputs": [
        {
          "output_type": "stream",
          "name": "stdout",
          "text": [
            "89235.5\n"
          ]
        }
      ]
    },
    {
      "cell_type": "code",
      "source": [
        "median_value = data[\"YOJ\"].median()\n",
        "print(median_value)\n",
        "data[\"YOJ\"].fillna(median_value, inplace=True)"
      ],
      "metadata": {
        "colab": {
          "base_uri": "https://localhost:8080/"
        },
        "id": "WfqrJSqtoziR",
        "outputId": "0bfa2628-e5b4-47c4-eda9-d56dc32c6786"
      },
      "execution_count": 329,
      "outputs": [
        {
          "output_type": "stream",
          "name": "stdout",
          "text": [
            "7.0\n"
          ]
        }
      ]
    },
    {
      "cell_type": "code",
      "source": [
        "mean_value = data[\"DEROG\"].mean()\n",
        "print(mean_value)\n",
        "data[\"DEROG\"].fillna(mean_value, inplace=True)"
      ],
      "metadata": {
        "colab": {
          "base_uri": "https://localhost:8080/"
        },
        "id": "tJ-h8r0to5-1",
        "outputId": "52f3ffa9-0883-46e3-f311-93aac558e602"
      },
      "execution_count": 330,
      "outputs": [
        {
          "output_type": "stream",
          "name": "stdout",
          "text": [
            "0.2545696877380046\n"
          ]
        }
      ]
    },
    {
      "cell_type": "code",
      "source": [
        "mean_value = data[\"DELINQ\"].mean()\n",
        "print(mean_value)\n",
        "data[\"DELINQ\"].fillna(mean_value, inplace=True)"
      ],
      "metadata": {
        "colab": {
          "base_uri": "https://localhost:8080/"
        },
        "id": "hJOsQKXgo-oM",
        "outputId": "5f9209f9-b0d7-4599-f3d7-a7f4a06660a9"
      },
      "execution_count": 331,
      "outputs": [
        {
          "output_type": "stream",
          "name": "stdout",
          "text": [
            "0.4494423791821561\n"
          ]
        }
      ]
    },
    {
      "cell_type": "code",
      "source": [
        "median_value = data[\"CLAGE\"].median()\n",
        "print(median_value)\n",
        "data[\"CLAGE\"].fillna(median_value, inplace=True)"
      ],
      "metadata": {
        "colab": {
          "base_uri": "https://localhost:8080/"
        },
        "id": "hLsFBZBUpCWL",
        "outputId": "aa7770c5-a971-4f35-ce24-70d6346b577a"
      },
      "execution_count": 332,
      "outputs": [
        {
          "output_type": "stream",
          "name": "stdout",
          "text": [
            "173.46666667\n"
          ]
        }
      ]
    },
    {
      "cell_type": "code",
      "source": [
        "mean_value = data[\"NINQ\"].mean()\n",
        "print(mean_value)\n",
        "data[\"NINQ\"].fillna(mean_value, inplace=True)"
      ],
      "metadata": {
        "colab": {
          "base_uri": "https://localhost:8080/"
        },
        "id": "Z14ALxXupGJ_",
        "outputId": "554e8df6-13c5-4788-cd81-04a5b310d1da"
      },
      "execution_count": 333,
      "outputs": [
        {
          "output_type": "stream",
          "name": "stdout",
          "text": [
            "1.1860550458715597\n"
          ]
        }
      ]
    },
    {
      "cell_type": "code",
      "source": [
        "mean_value = data[\"CLNO\"].mean()\n",
        "print(mean_value)\n",
        "data[\"CLNO\"].fillna(mean_value, inplace=True)"
      ],
      "metadata": {
        "colab": {
          "base_uri": "https://localhost:8080/"
        },
        "id": "M1HN-07WpLCU",
        "outputId": "d5aaa99f-0168-4ee7-d650-80522943a81d"
      },
      "execution_count": 334,
      "outputs": [
        {
          "output_type": "stream",
          "name": "stdout",
          "text": [
            "21.29609620076682\n"
          ]
        }
      ]
    },
    {
      "cell_type": "code",
      "source": [
        "data.isna().sum()"
      ],
      "metadata": {
        "colab": {
          "base_uri": "https://localhost:8080/"
        },
        "id": "4MKyXlLspPd3",
        "outputId": "8dd9dd6b-7bf5-4635-f46c-92ebc2e49016"
      },
      "execution_count": 335,
      "outputs": [
        {
          "output_type": "execute_result",
          "data": {
            "text/plain": [
              "BAD          0\n",
              "LOAN         0\n",
              "MORTDUE      0\n",
              "VALUE        0\n",
              "REASON     252\n",
              "JOB        279\n",
              "YOJ          0\n",
              "DEROG        0\n",
              "DELINQ       0\n",
              "CLAGE        0\n",
              "NINQ         0\n",
              "CLNO         0\n",
              "DEBTINC      0\n",
              "dtype: int64"
            ]
          },
          "metadata": {},
          "execution_count": 335
        }
      ]
    },
    {
      "cell_type": "code",
      "source": [
        "mode_value = data[\"REASON\"].mode()[0]\n",
        "print(mode_value)\n",
        "data[\"REASON\"].fillna(mode_value, inplace=True)"
      ],
      "metadata": {
        "colab": {
          "base_uri": "https://localhost:8080/"
        },
        "id": "asUItCLbpYGz",
        "outputId": "5b5f9353-a6e3-4395-a9c7-d867cec84ae1"
      },
      "execution_count": 336,
      "outputs": [
        {
          "output_type": "stream",
          "name": "stdout",
          "text": [
            "DebtCon\n"
          ]
        }
      ]
    },
    {
      "cell_type": "code",
      "source": [
        "mode_value = data[\"JOB\"].mode()[0]\n",
        "print(mode_value)\n",
        "data[\"JOB\"].fillna(mode_value, inplace=True)"
      ],
      "metadata": {
        "colab": {
          "base_uri": "https://localhost:8080/"
        },
        "id": "3_7-glo3pcVD",
        "outputId": "6101b482-b095-43bc-f93c-3b42f77fb43b"
      },
      "execution_count": 337,
      "outputs": [
        {
          "output_type": "stream",
          "name": "stdout",
          "text": [
            "Other\n"
          ]
        }
      ]
    },
    {
      "cell_type": "code",
      "source": [
        "data.isna().sum()"
      ],
      "metadata": {
        "colab": {
          "base_uri": "https://localhost:8080/"
        },
        "id": "hPmrsqBNpmyh",
        "outputId": "7227e6f2-2eb2-4348-8bb0-0a66196f1f8d"
      },
      "execution_count": 338,
      "outputs": [
        {
          "output_type": "execute_result",
          "data": {
            "text/plain": [
              "BAD        0\n",
              "LOAN       0\n",
              "MORTDUE    0\n",
              "VALUE      0\n",
              "REASON     0\n",
              "JOB        0\n",
              "YOJ        0\n",
              "DEROG      0\n",
              "DELINQ     0\n",
              "CLAGE      0\n",
              "NINQ       0\n",
              "CLNO       0\n",
              "DEBTINC    0\n",
              "dtype: int64"
            ]
          },
          "metadata": {},
          "execution_count": 338
        }
      ]
    },
    {
      "cell_type": "code",
      "source": [
        "data.head(4)"
      ],
      "metadata": {
        "colab": {
          "base_uri": "https://localhost:8080/",
          "height": 175
        },
        "id": "I50EXihlpsjr",
        "outputId": "4dcc1206-f01a-4e89-c3a8-d8e24a059c93"
      },
      "execution_count": 339,
      "outputs": [
        {
          "output_type": "execute_result",
          "data": {
            "text/plain": [
              "   BAD  LOAN  MORTDUE    VALUE   REASON    JOB   YOJ  DEROG  DELINQ  CLAGE  \\\n",
              "0    1  1100 25860.00 39025.00  HomeImp  Other 10.50   0.00    0.00  94.37   \n",
              "1    1  1300 70053.00 68400.00  HomeImp  Other  7.00   0.00    2.00 121.83   \n",
              "2    1  1500 13500.00 16700.00  HomeImp  Other  4.00   0.00    0.00 149.47   \n",
              "3    1  1500 65019.00 89235.50  DebtCon  Other  7.00   0.25    0.45 173.47   \n",
              "\n",
              "   NINQ  CLNO  DEBTINC  \n",
              "0  1.00  9.00    34.82  \n",
              "1  0.00 14.00    34.82  \n",
              "2  1.00 10.00    34.82  \n",
              "3  1.19 21.30    34.82  "
            ],
            "text/html": [
              "\n",
              "  <div id=\"df-18fe7648-548e-4b75-9fd8-f8f297521807\" class=\"colab-df-container\">\n",
              "    <div>\n",
              "<style scoped>\n",
              "    .dataframe tbody tr th:only-of-type {\n",
              "        vertical-align: middle;\n",
              "    }\n",
              "\n",
              "    .dataframe tbody tr th {\n",
              "        vertical-align: top;\n",
              "    }\n",
              "\n",
              "    .dataframe thead th {\n",
              "        text-align: right;\n",
              "    }\n",
              "</style>\n",
              "<table border=\"1\" class=\"dataframe\">\n",
              "  <thead>\n",
              "    <tr style=\"text-align: right;\">\n",
              "      <th></th>\n",
              "      <th>BAD</th>\n",
              "      <th>LOAN</th>\n",
              "      <th>MORTDUE</th>\n",
              "      <th>VALUE</th>\n",
              "      <th>REASON</th>\n",
              "      <th>JOB</th>\n",
              "      <th>YOJ</th>\n",
              "      <th>DEROG</th>\n",
              "      <th>DELINQ</th>\n",
              "      <th>CLAGE</th>\n",
              "      <th>NINQ</th>\n",
              "      <th>CLNO</th>\n",
              "      <th>DEBTINC</th>\n",
              "    </tr>\n",
              "  </thead>\n",
              "  <tbody>\n",
              "    <tr>\n",
              "      <th>0</th>\n",
              "      <td>1</td>\n",
              "      <td>1100</td>\n",
              "      <td>25860.00</td>\n",
              "      <td>39025.00</td>\n",
              "      <td>HomeImp</td>\n",
              "      <td>Other</td>\n",
              "      <td>10.50</td>\n",
              "      <td>0.00</td>\n",
              "      <td>0.00</td>\n",
              "      <td>94.37</td>\n",
              "      <td>1.00</td>\n",
              "      <td>9.00</td>\n",
              "      <td>34.82</td>\n",
              "    </tr>\n",
              "    <tr>\n",
              "      <th>1</th>\n",
              "      <td>1</td>\n",
              "      <td>1300</td>\n",
              "      <td>70053.00</td>\n",
              "      <td>68400.00</td>\n",
              "      <td>HomeImp</td>\n",
              "      <td>Other</td>\n",
              "      <td>7.00</td>\n",
              "      <td>0.00</td>\n",
              "      <td>2.00</td>\n",
              "      <td>121.83</td>\n",
              "      <td>0.00</td>\n",
              "      <td>14.00</td>\n",
              "      <td>34.82</td>\n",
              "    </tr>\n",
              "    <tr>\n",
              "      <th>2</th>\n",
              "      <td>1</td>\n",
              "      <td>1500</td>\n",
              "      <td>13500.00</td>\n",
              "      <td>16700.00</td>\n",
              "      <td>HomeImp</td>\n",
              "      <td>Other</td>\n",
              "      <td>4.00</td>\n",
              "      <td>0.00</td>\n",
              "      <td>0.00</td>\n",
              "      <td>149.47</td>\n",
              "      <td>1.00</td>\n",
              "      <td>10.00</td>\n",
              "      <td>34.82</td>\n",
              "    </tr>\n",
              "    <tr>\n",
              "      <th>3</th>\n",
              "      <td>1</td>\n",
              "      <td>1500</td>\n",
              "      <td>65019.00</td>\n",
              "      <td>89235.50</td>\n",
              "      <td>DebtCon</td>\n",
              "      <td>Other</td>\n",
              "      <td>7.00</td>\n",
              "      <td>0.25</td>\n",
              "      <td>0.45</td>\n",
              "      <td>173.47</td>\n",
              "      <td>1.19</td>\n",
              "      <td>21.30</td>\n",
              "      <td>34.82</td>\n",
              "    </tr>\n",
              "  </tbody>\n",
              "</table>\n",
              "</div>\n",
              "    <div class=\"colab-df-buttons\">\n",
              "\n",
              "  <div class=\"colab-df-container\">\n",
              "    <button class=\"colab-df-convert\" onclick=\"convertToInteractive('df-18fe7648-548e-4b75-9fd8-f8f297521807')\"\n",
              "            title=\"Convert this dataframe to an interactive table.\"\n",
              "            style=\"display:none;\">\n",
              "\n",
              "  <svg xmlns=\"http://www.w3.org/2000/svg\" height=\"24px\" viewBox=\"0 -960 960 960\">\n",
              "    <path d=\"M120-120v-720h720v720H120Zm60-500h600v-160H180v160Zm220 220h160v-160H400v160Zm0 220h160v-160H400v160ZM180-400h160v-160H180v160Zm440 0h160v-160H620v160ZM180-180h160v-160H180v160Zm440 0h160v-160H620v160Z\"/>\n",
              "  </svg>\n",
              "    </button>\n",
              "\n",
              "  <style>\n",
              "    .colab-df-container {\n",
              "      display:flex;\n",
              "      gap: 12px;\n",
              "    }\n",
              "\n",
              "    .colab-df-convert {\n",
              "      background-color: #E8F0FE;\n",
              "      border: none;\n",
              "      border-radius: 50%;\n",
              "      cursor: pointer;\n",
              "      display: none;\n",
              "      fill: #1967D2;\n",
              "      height: 32px;\n",
              "      padding: 0 0 0 0;\n",
              "      width: 32px;\n",
              "    }\n",
              "\n",
              "    .colab-df-convert:hover {\n",
              "      background-color: #E2EBFA;\n",
              "      box-shadow: 0px 1px 2px rgba(60, 64, 67, 0.3), 0px 1px 3px 1px rgba(60, 64, 67, 0.15);\n",
              "      fill: #174EA6;\n",
              "    }\n",
              "\n",
              "    .colab-df-buttons div {\n",
              "      margin-bottom: 4px;\n",
              "    }\n",
              "\n",
              "    [theme=dark] .colab-df-convert {\n",
              "      background-color: #3B4455;\n",
              "      fill: #D2E3FC;\n",
              "    }\n",
              "\n",
              "    [theme=dark] .colab-df-convert:hover {\n",
              "      background-color: #434B5C;\n",
              "      box-shadow: 0px 1px 3px 1px rgba(0, 0, 0, 0.15);\n",
              "      filter: drop-shadow(0px 1px 2px rgba(0, 0, 0, 0.3));\n",
              "      fill: #FFFFFF;\n",
              "    }\n",
              "  </style>\n",
              "\n",
              "    <script>\n",
              "      const buttonEl =\n",
              "        document.querySelector('#df-18fe7648-548e-4b75-9fd8-f8f297521807 button.colab-df-convert');\n",
              "      buttonEl.style.display =\n",
              "        google.colab.kernel.accessAllowed ? 'block' : 'none';\n",
              "\n",
              "      async function convertToInteractive(key) {\n",
              "        const element = document.querySelector('#df-18fe7648-548e-4b75-9fd8-f8f297521807');\n",
              "        const dataTable =\n",
              "          await google.colab.kernel.invokeFunction('convertToInteractive',\n",
              "                                                    [key], {});\n",
              "        if (!dataTable) return;\n",
              "\n",
              "        const docLinkHtml = 'Like what you see? Visit the ' +\n",
              "          '<a target=\"_blank\" href=https://colab.research.google.com/notebooks/data_table.ipynb>data table notebook</a>'\n",
              "          + ' to learn more about interactive tables.';\n",
              "        element.innerHTML = '';\n",
              "        dataTable['output_type'] = 'display_data';\n",
              "        await google.colab.output.renderOutput(dataTable, element);\n",
              "        const docLink = document.createElement('div');\n",
              "        docLink.innerHTML = docLinkHtml;\n",
              "        element.appendChild(docLink);\n",
              "      }\n",
              "    </script>\n",
              "  </div>\n",
              "\n",
              "\n",
              "<div id=\"df-dc778504-8928-4aec-95a2-c910e28b2827\">\n",
              "  <button class=\"colab-df-quickchart\" onclick=\"quickchart('df-dc778504-8928-4aec-95a2-c910e28b2827')\"\n",
              "            title=\"Suggest charts\"\n",
              "            style=\"display:none;\">\n",
              "\n",
              "<svg xmlns=\"http://www.w3.org/2000/svg\" height=\"24px\"viewBox=\"0 0 24 24\"\n",
              "     width=\"24px\">\n",
              "    <g>\n",
              "        <path d=\"M19 3H5c-1.1 0-2 .9-2 2v14c0 1.1.9 2 2 2h14c1.1 0 2-.9 2-2V5c0-1.1-.9-2-2-2zM9 17H7v-7h2v7zm4 0h-2V7h2v10zm4 0h-2v-4h2v4z\"/>\n",
              "    </g>\n",
              "</svg>\n",
              "  </button>\n",
              "\n",
              "<style>\n",
              "  .colab-df-quickchart {\n",
              "      --bg-color: #E8F0FE;\n",
              "      --fill-color: #1967D2;\n",
              "      --hover-bg-color: #E2EBFA;\n",
              "      --hover-fill-color: #174EA6;\n",
              "      --disabled-fill-color: #AAA;\n",
              "      --disabled-bg-color: #DDD;\n",
              "  }\n",
              "\n",
              "  [theme=dark] .colab-df-quickchart {\n",
              "      --bg-color: #3B4455;\n",
              "      --fill-color: #D2E3FC;\n",
              "      --hover-bg-color: #434B5C;\n",
              "      --hover-fill-color: #FFFFFF;\n",
              "      --disabled-bg-color: #3B4455;\n",
              "      --disabled-fill-color: #666;\n",
              "  }\n",
              "\n",
              "  .colab-df-quickchart {\n",
              "    background-color: var(--bg-color);\n",
              "    border: none;\n",
              "    border-radius: 50%;\n",
              "    cursor: pointer;\n",
              "    display: none;\n",
              "    fill: var(--fill-color);\n",
              "    height: 32px;\n",
              "    padding: 0;\n",
              "    width: 32px;\n",
              "  }\n",
              "\n",
              "  .colab-df-quickchart:hover {\n",
              "    background-color: var(--hover-bg-color);\n",
              "    box-shadow: 0 1px 2px rgba(60, 64, 67, 0.3), 0 1px 3px 1px rgba(60, 64, 67, 0.15);\n",
              "    fill: var(--button-hover-fill-color);\n",
              "  }\n",
              "\n",
              "  .colab-df-quickchart-complete:disabled,\n",
              "  .colab-df-quickchart-complete:disabled:hover {\n",
              "    background-color: var(--disabled-bg-color);\n",
              "    fill: var(--disabled-fill-color);\n",
              "    box-shadow: none;\n",
              "  }\n",
              "\n",
              "  .colab-df-spinner {\n",
              "    border: 2px solid var(--fill-color);\n",
              "    border-color: transparent;\n",
              "    border-bottom-color: var(--fill-color);\n",
              "    animation:\n",
              "      spin 1s steps(1) infinite;\n",
              "  }\n",
              "\n",
              "  @keyframes spin {\n",
              "    0% {\n",
              "      border-color: transparent;\n",
              "      border-bottom-color: var(--fill-color);\n",
              "      border-left-color: var(--fill-color);\n",
              "    }\n",
              "    20% {\n",
              "      border-color: transparent;\n",
              "      border-left-color: var(--fill-color);\n",
              "      border-top-color: var(--fill-color);\n",
              "    }\n",
              "    30% {\n",
              "      border-color: transparent;\n",
              "      border-left-color: var(--fill-color);\n",
              "      border-top-color: var(--fill-color);\n",
              "      border-right-color: var(--fill-color);\n",
              "    }\n",
              "    40% {\n",
              "      border-color: transparent;\n",
              "      border-right-color: var(--fill-color);\n",
              "      border-top-color: var(--fill-color);\n",
              "    }\n",
              "    60% {\n",
              "      border-color: transparent;\n",
              "      border-right-color: var(--fill-color);\n",
              "    }\n",
              "    80% {\n",
              "      border-color: transparent;\n",
              "      border-right-color: var(--fill-color);\n",
              "      border-bottom-color: var(--fill-color);\n",
              "    }\n",
              "    90% {\n",
              "      border-color: transparent;\n",
              "      border-bottom-color: var(--fill-color);\n",
              "    }\n",
              "  }\n",
              "</style>\n",
              "\n",
              "  <script>\n",
              "    async function quickchart(key) {\n",
              "      const quickchartButtonEl =\n",
              "        document.querySelector('#' + key + ' button');\n",
              "      quickchartButtonEl.disabled = true;  // To prevent multiple clicks.\n",
              "      quickchartButtonEl.classList.add('colab-df-spinner');\n",
              "      try {\n",
              "        const charts = await google.colab.kernel.invokeFunction(\n",
              "            'suggestCharts', [key], {});\n",
              "      } catch (error) {\n",
              "        console.error('Error during call to suggestCharts:', error);\n",
              "      }\n",
              "      quickchartButtonEl.classList.remove('colab-df-spinner');\n",
              "      quickchartButtonEl.classList.add('colab-df-quickchart-complete');\n",
              "    }\n",
              "    (() => {\n",
              "      let quickchartButtonEl =\n",
              "        document.querySelector('#df-dc778504-8928-4aec-95a2-c910e28b2827 button');\n",
              "      quickchartButtonEl.style.display =\n",
              "        google.colab.kernel.accessAllowed ? 'block' : 'none';\n",
              "    })();\n",
              "  </script>\n",
              "</div>\n",
              "\n",
              "    </div>\n",
              "  </div>\n"
            ],
            "application/vnd.google.colaboratory.intrinsic+json": {
              "type": "dataframe",
              "variable_name": "data",
              "summary": "{\n  \"name\": \"data\",\n  \"rows\": 5960,\n  \"fields\": [\n    {\n      \"column\": \"BAD\",\n      \"properties\": {\n        \"dtype\": \"number\",\n        \"std\": 0,\n        \"min\": 0,\n        \"max\": 1,\n        \"num_unique_values\": 2,\n        \"samples\": [\n          0,\n          1\n        ],\n        \"semantic_type\": \"\",\n        \"description\": \"\"\n      }\n    },\n    {\n      \"column\": \"LOAN\",\n      \"properties\": {\n        \"dtype\": \"number\",\n        \"std\": 11207,\n        \"min\": 1100,\n        \"max\": 89900,\n        \"num_unique_values\": 540,\n        \"samples\": [\n          24700,\n          9100\n        ],\n        \"semantic_type\": \"\",\n        \"description\": \"\"\n      }\n    },\n    {\n      \"column\": \"MORTDUE\",\n      \"properties\": {\n        \"dtype\": \"number\",\n        \"std\": 42552.72677865407,\n        \"min\": 2063.0,\n        \"max\": 399550.0,\n        \"num_unique_values\": 5054,\n        \"samples\": [\n          120137.0,\n          38900.0\n        ],\n        \"semantic_type\": \"\",\n        \"description\": \"\"\n      }\n    },\n    {\n      \"column\": \"VALUE\",\n      \"properties\": {\n        \"dtype\": \"number\",\n        \"std\": 56869.43668201102,\n        \"min\": 8000.0,\n        \"max\": 855909.0,\n        \"num_unique_values\": 5382,\n        \"samples\": [\n          104133.0,\n          89082.0\n        ],\n        \"semantic_type\": \"\",\n        \"description\": \"\"\n      }\n    },\n    {\n      \"column\": \"REASON\",\n      \"properties\": {\n        \"dtype\": \"category\",\n        \"num_unique_values\": 2,\n        \"samples\": [\n          \"DebtCon\",\n          \"HomeImp\"\n        ],\n        \"semantic_type\": \"\",\n        \"description\": \"\"\n      }\n    },\n    {\n      \"column\": \"JOB\",\n      \"properties\": {\n        \"dtype\": \"category\",\n        \"num_unique_values\": 6,\n        \"samples\": [\n          \"Other\",\n          \"Office\"\n        ],\n        \"semantic_type\": \"\",\n        \"description\": \"\"\n      }\n    },\n    {\n      \"column\": \"YOJ\",\n      \"properties\": {\n        \"dtype\": \"number\",\n        \"std\": 7.259423811994562,\n        \"min\": 0.0,\n        \"max\": 41.0,\n        \"num_unique_values\": 99,\n        \"samples\": [\n          2.3,\n          1.4\n        ],\n        \"semantic_type\": \"\",\n        \"description\": \"\"\n      }\n    },\n    {\n      \"column\": \"DEROG\",\n      \"properties\": {\n        \"dtype\": \"number\",\n        \"std\": 0.7941978222193579,\n        \"min\": 0.0,\n        \"max\": 10.0,\n        \"num_unique_values\": 12,\n        \"samples\": [\n          9.0,\n          8.0\n        ],\n        \"semantic_type\": \"\",\n        \"description\": \"\"\n      }\n    },\n    {\n      \"column\": \"DELINQ\",\n      \"properties\": {\n        \"dtype\": \"number\",\n        \"std\": 1.0710024293066407,\n        \"min\": 0.0,\n        \"max\": 15.0,\n        \"num_unique_values\": 15,\n        \"samples\": [\n          7.0,\n          10.0\n        ],\n        \"semantic_type\": \"\",\n        \"description\": \"\"\n      }\n    },\n    {\n      \"column\": \"CLAGE\",\n      \"properties\": {\n        \"dtype\": \"number\",\n        \"std\": 83.57469671420506,\n        \"min\": 0.0,\n        \"max\": 1168.2335609,\n        \"num_unique_values\": 5314,\n        \"samples\": [\n          117.16666667,\n          191.1124423\n        ],\n        \"semantic_type\": \"\",\n        \"description\": \"\"\n      }\n    },\n    {\n      \"column\": \"NINQ\",\n      \"properties\": {\n        \"dtype\": \"number\",\n        \"std\": 1.6530464425659022,\n        \"min\": 0.0,\n        \"max\": 17.0,\n        \"num_unique_values\": 17,\n        \"samples\": [\n          1.0,\n          0.0\n        ],\n        \"semantic_type\": \"\",\n        \"description\": \"\"\n      }\n    },\n    {\n      \"column\": \"CLNO\",\n      \"properties\": {\n        \"dtype\": \"number\",\n        \"std\": 9.948279848838864,\n        \"min\": 0.0,\n        \"max\": 71.0,\n        \"num_unique_values\": 63,\n        \"samples\": [\n          44.0,\n          53.0\n        ],\n        \"semantic_type\": \"\",\n        \"description\": \"\"\n      }\n    },\n    {\n      \"column\": \"DEBTINC\",\n      \"properties\": {\n        \"dtype\": \"number\",\n        \"std\": 7.644528364638141,\n        \"min\": 0.5244992154,\n        \"max\": 203.31214869,\n        \"num_unique_values\": 4693,\n        \"samples\": [\n          15.761919171,\n          33.870695551\n        ],\n        \"semantic_type\": \"\",\n        \"description\": \"\"\n      }\n    }\n  ]\n}"
            }
          },
          "metadata": {},
          "execution_count": 339
        }
      ]
    },
    {
      "cell_type": "code",
      "source": [
        "plt.figure(figsize=(20, 6))\n",
        "sns.countplot(x = \"LOAN\", data = data[:100])\n",
        "plt.xticks(rotation=45)\n",
        "plt.show()"
      ],
      "metadata": {
        "colab": {
          "base_uri": "https://localhost:8080/",
          "height": 390
        },
        "id": "eq5zsRBypwl1",
        "outputId": "69873be1-5423-4cec-cac0-e95b118a63e3"
      },
      "execution_count": 340,
      "outputs": [
        {
          "output_type": "display_data",
          "data": {
            "text/plain": [
              "<Figure size 2000x600 with 1 Axes>"
            ],
            "image/png": "[encoded data removed]"
          },
          "metadata": {}
        }
      ]
    },
    {
      "cell_type": "code",
      "source": [
        "plt.figure(figsize=(8, 8))\n",
        "sns.barplot(y= \"DEBTINC\",x =\"BAD\", data = data)\n",
        "plt.xticks(rotation=45)\n",
        "plt.show()"
      ],
      "metadata": {
        "colab": {
          "base_uri": "https://localhost:8080/",
          "height": 698
        },
        "id": "thmYAS_iqKoy",
        "outputId": "afccef7c-4b80-44d5-85e6-39e040222b04"
      },
      "execution_count": 341,
      "outputs": [
        {
          "output_type": "display_data",
          "data": {
            "text/plain": [
              "<Figure size 800x800 with 1 Axes>"
            ],
            "image/png": "[encoded data removed]"
          },
          "metadata": {}
        }
      ]
    },
    {
      "cell_type": "code",
      "source": [
        "sns.histplot(x=\"MORTDUE\", data = data[:1000])\n",
        "plt.xticks(rotation=45)\n",
        "plt.show()"
      ],
      "metadata": {
        "colab": {
          "base_uri": "https://localhost:8080/",
          "height": 482
        },
        "id": "Xwu4wL3hq4ao",
        "outputId": "99557f6c-d66c-47e8-806c-e7485097b2db"
      },
      "execution_count": 342,
      "outputs": [
        {
          "output_type": "display_data",
          "data": {
            "text/plain": [
              "<Figure size 640x480 with 1 Axes>"
            ],
            "image/png": "[encoded data removed]"
          },
          "metadata": {}
        }
      ]
    },
    {
      "cell_type": "code",
      "source": [
        "sns.pairplot(data[:500], hue='BAD',height=1.5)"
      ],
      "metadata": {
        "colab": {
          "base_uri": "https://localhost:8080/"
        },
        "id": "JM7_NEfLrMOg",
        "outputId": "889cce8d-e04a-46a4-a77a-d905cf8a49cb"
      },
      "execution_count": 343,
      "outputs": [
        {
          "output_type": "execute_result",
          "data": {
            "text/plain": [
              "<seaborn.axisgrid.PairGrid at 0x791a8e237a90>"
            ]
          },
          "metadata": {},
          "execution_count": 343
        }
      ]
    },
    {
      "cell_type": "code",
      "source": [
        "data"
      ],
      "metadata": {
        "id": "GSWyR6-irfbs"
      },
      "execution_count": null,
      "outputs": []
    },
    {
      "cell_type": "code",
      "source": [
        "data.REASON.nunique()"
      ],
      "metadata": {
        "id": "I1qnnwE9sCB9"
      },
      "execution_count": null,
      "outputs": []
    },
    {
      "cell_type": "code",
      "source": [
        "sns.countplot(x = \"REASON\", hue = \"BAD\", data = data)"
      ],
      "metadata": {
        "id": "i29SXXb-3BpJ"
      },
      "execution_count": null,
      "outputs": []
    },
    {
      "cell_type": "code",
      "source": [
        "sns.countplot(x = \"JOB\", hue = \"BAD\", data = data)"
      ],
      "metadata": {
        "id": "g813UCj-3HvJ"
      },
      "execution_count": null,
      "outputs": []
    },
    {
      "cell_type": "code",
      "source": [
        "data.REASON.unique()"
      ],
      "metadata": {
        "id": "BcMgKNH7soAo"
      },
      "execution_count": null,
      "outputs": []
    },
    {
      "cell_type": "code",
      "source": [
        "mapping = {\"HomeImp\":2,\n",
        "           \"DebtCon\":3\n",
        "}\n"
      ],
      "metadata": {
        "id": "oholxOPHsty9"
      },
      "execution_count": null,
      "outputs": []
    },
    {
      "cell_type": "code",
      "source": [
        "data[\"REASON\"] = data.REASON.map(mapping)\n",
        "data[\"REASON\"].unique()"
      ],
      "metadata": {
        "id": "P2-1CegBtF8L"
      },
      "execution_count": null,
      "outputs": []
    },
    {
      "cell_type": "code",
      "source": [
        "data.head(4)"
      ],
      "metadata": {
        "id": "3ODhhunUtMR7"
      },
      "execution_count": null,
      "outputs": []
    },
    {
      "cell_type": "code",
      "source": [
        "data.JOB.unique()"
      ],
      "metadata": {
        "id": "mieuFUKYtRwk"
      },
      "execution_count": null,
      "outputs": []
    },
    {
      "cell_type": "code",
      "source": [
        "mapping_job = {\"Other\":4,\n",
        "           \"Office\":5,\n",
        "           \"Sales\":6,\n",
        "           \"Mgr\":7,\n",
        "           \"ProfExe\":8,\n",
        "           \"Self\":9\n",
        "\n",
        "}\n"
      ],
      "metadata": {
        "id": "hUDBxGUYthKH"
      },
      "execution_count": null,
      "outputs": []
    },
    {
      "cell_type": "code",
      "source": [
        "data[\"JOB\"] = data.JOB.map(mapping_job)\n",
        "data[\"JOB\"].unique()"
      ],
      "metadata": {
        "id": "qq-yWo4Q0hCD"
      },
      "execution_count": null,
      "outputs": []
    },
    {
      "cell_type": "code",
      "source": [
        "data.head(3)"
      ],
      "metadata": {
        "id": "rKp1qFua1Dip"
      },
      "execution_count": null,
      "outputs": []
    },
    {
      "source": [
        "data['LOAN'].plot(kind='hist', bins=20, title='LOAN')"
      ],
      "cell_type": "code",
      "execution_count": null,
      "outputs": [],
      "metadata": {
        "id": "SL7_Mz4y4QqI"
      }
    },
    {
      "cell_type": "code",
      "source": [
        "data.JOB.unique()"
      ],
      "metadata": {
        "id": "w_hyvawZ2bgW"
      },
      "execution_count": null,
      "outputs": []
    },
    {
      "cell_type": "code",
      "source": [
        "data['LOAN_TO_VALUE'] = data['LOAN'] / data['VALUE']"
      ],
      "metadata": {
        "id": "qyMXTSEx4CBA"
      },
      "execution_count": null,
      "outputs": []
    },
    {
      "cell_type": "code",
      "source": [
        "data"
      ],
      "metadata": {
        "id": "PnVvAUK14uqs"
      },
      "execution_count": null,
      "outputs": []
    },
    {
      "cell_type": "code",
      "source": [
        "data.info()"
      ],
      "metadata": {
        "id": "dL36_tMK4wq2"
      },
      "execution_count": null,
      "outputs": []
    },
    {
      "cell_type": "code",
      "source": [
        "data.corr().abs()"
      ],
      "metadata": {
        "id": "-elN8MYP5Oyi"
      },
      "execution_count": null,
      "outputs": []
    },
    {
      "cell_type": "code",
      "source": [
        "data.corrwith(data.BAD).abs()"
      ],
      "metadata": {
        "id": "I4Yhwsbm5o0H"
      },
      "execution_count": null,
      "outputs": []
    },
    {
      "cell_type": "code",
      "source": [
        "data.corrwith(data.BAD).abs()>=0.01"
      ],
      "metadata": {
        "id": "UdJrrZyi5_iW"
      },
      "execution_count": null,
      "outputs": []
    },
    {
      "cell_type": "code",
      "source": [
        "data"
      ],
      "metadata": {
        "id": "Cy20RrjQAND7"
      },
      "execution_count": null,
      "outputs": []
    },
    {
      "cell_type": "code",
      "source": [
        "data"
      ],
      "metadata": {
        "id": "rjiO6Q_yAYbB"
      },
      "execution_count": null,
      "outputs": []
    },
    {
      "cell_type": "code",
      "source": [
        "data.hist()"
      ],
      "metadata": {
        "id": "aoESHFa7AZm8"
      },
      "execution_count": null,
      "outputs": []
    },
    {
      "cell_type": "code",
      "source": [
        "sns.heatmap(data.corr())"
      ],
      "metadata": {
        "id": "uTKjVO-jAsI0"
      },
      "execution_count": null,
      "outputs": []
    },
    {
      "cell_type": "code",
      "source": [
        "!pip install lazypredict"
      ],
      "metadata": {
        "id": "aPr3Gk7_B5Yv"
      },
      "execution_count": null,
      "outputs": []
    },
    {
      "cell_type": "code",
      "source": [
        "y = data[\"BAD\"] # Target\n",
        "x = data.drop(\"BAD\", axis=1)"
      ],
      "metadata": {
        "id": "0Vq3zLE2CC1L"
      },
      "execution_count": null,
      "outputs": []
    },
    {
      "cell_type": "code",
      "source": [
        "x.head(2)"
      ],
      "metadata": {
        "id": "BS4M3Yp2CVqP"
      },
      "execution_count": null,
      "outputs": []
    },
    {
      "cell_type": "code",
      "source": [
        "y.head(2)"
      ],
      "metadata": {
        "id": "NMZNhdIeCatJ"
      },
      "execution_count": null,
      "outputs": []
    },
    {
      "cell_type": "code",
      "source": [
        "from sklearn.model_selection import train_test_split\n",
        "x_train,x_test,y_train,y_test = train_test_split(x,y, train_size = 0.7, shuffle = True, random_state = 42)"
      ],
      "metadata": {
        "id": "TtyOplW-CeWJ"
      },
      "execution_count": null,
      "outputs": []
    },
    {
      "cell_type": "code",
      "source": [
        "print(f\"the shape of x_train:{x_train.shape}\")\n",
        "print(f\"the shape of x_test:{x_test.shape}\")\n",
        "print(f\"the shape of y_train:{y_train.shape}\")\n",
        "print(f\"the shape of y_test:{y_test.shape}\")"
      ],
      "metadata": {
        "id": "UbXUvuF6CmpP"
      },
      "execution_count": null,
      "outputs": []
    },
    {
      "cell_type": "code",
      "source": [
        "from lazypredict.Supervised import LazyClassifier"
      ],
      "metadata": {
        "id": "4oUB-UrTCuIc"
      },
      "execution_count": null,
      "outputs": []
    },
    {
      "cell_type": "code",
      "source": [
        "lc = LazyClassifier(verbose=0, ignore_warnings=True, custom_metric= None)\n"
      ],
      "metadata": {
        "id": "e7odJTHBCzBX"
      },
      "execution_count": null,
      "outputs": []
    },
    {
      "cell_type": "code",
      "source": [
        "models, predictions = lc.fit(x_train,x_test,y_train,y_test)"
      ],
      "metadata": {
        "id": "6ZMwYWU4DMt8"
      },
      "execution_count": null,
      "outputs": []
    },
    {
      "cell_type": "code",
      "source": [
        "print (models)"
      ],
      "metadata": {
        "id": "YyU_y1iVDWRQ"
      },
      "execution_count": null,
      "outputs": []
    },
    {
      "cell_type": "code",
      "source": [
        "from sklearn.naive_bayes import GaussianNB\n",
        "from sklearn.neighbors import KNeighborsClassifier\n",
        "from sklearn.svm import SVC\n",
        "from sklearn.tree import DecisionTreeClassifier\n",
        "from sklearn.ensemble import RandomForestClassifier\n",
        "from xgboost import XGBClassifier\n",
        "from sklearn.semi_supervised import LabelSpreading\n",
        "from sklearn.semi_supervised import LabelPropagation"
      ],
      "metadata": {
        "id": "1lLZGVMFI5fN"
      },
      "execution_count": null,
      "outputs": []
    },
    {
      "cell_type": "code",
      "source": [
        "nb = GaussianNB(priors=None, var_smoothing=1e-09)\n",
        "knn = KNeighborsClassifier(n_neighbors= 5,weights='uniform',algorithm=\"ball_tree\")\n",
        "svc = SVC()\n",
        "dt = DecisionTreeClassifier()\n",
        "rf = RandomForestClassifier()\n",
        "xgb = XGBClassifier()\n",
        "ls = LabelSpreading()\n",
        "lp = LabelPropagation()"
      ],
      "metadata": {
        "id": "IOEI2gPPI5oy"
      },
      "execution_count": null,
      "outputs": []
    },
    {
      "cell_type": "code",
      "source": [
        "nb.fit(x_train,y_train)\n",
        "nb.score(x_train,y_train).round(2)*100"
      ],
      "metadata": {
        "id": "Gg__brjsI5wp"
      },
      "execution_count": null,
      "outputs": []
    },
    {
      "cell_type": "code",
      "source": [
        "from sklearn.metrics import accuracy_score,ConfusionMatrixDisplay, confusion_matrix\n",
        "nb.predict(x_test)\n",
        "accuracy_score(y_test, nb.predict(x_test)).round(2)*100\n",
        "print(accuracy_score(y_test, nb.predict(x_test)).round(2)*100)\n",
        "print(confusion_matrix(y_test, nb.predict(x_test)))\n",
        "label = [\"Paid\", \"Defaulted\"]\n",
        "ConfusionMatrixDisplay(confusion_matrix(y_test, nb.predict(x_test)),display_labels = label).plot()\n",
        "plt.title(\"Loan\")"
      ],
      "metadata": {
        "id": "j94ekQK5I5z1"
      },
      "execution_count": null,
      "outputs": []
    },
    {
      "cell_type": "code",
      "source": [
        "xgb.fit(x_train,y_train)\n",
        "xgb.score(x_train,y_train).round(2)*100"
      ],
      "metadata": {
        "id": "1fRihNUxI52r"
      },
      "execution_count": null,
      "outputs": []
    },
    {
      "cell_type": "code",
      "source": [
        "from sklearn.metrics import accuracy_score,ConfusionMatrixDisplay, confusion_matrix\n",
        "xgb.predict(x_test)\n",
        "accuracy_score(y_test, xgb.predict(x_test)).round(2)*100\n",
        "print(accuracy_score(y_test, xgb.predict(x_test)).round(2)*100)\n",
        "print(confusion_matrix(y_test, xgb.predict(x_test)))\n",
        "label = [\"Paid\", \"Defaulted\"]\n",
        "ConfusionMatrixDisplay(confusion_matrix(y_test, xgb.predict(x_test)),display_labels = label).plot()\n",
        "plt.title(\"Loan\")"
      ],
      "metadata": {
        "id": "nPPZvMd-I55l"
      },
      "execution_count": null,
      "outputs": []
    },
    {
      "cell_type": "code",
      "source": [
        "ls.fit(x_train,y_train)\n",
        "ls.score(x_train,y_train).round(2)*100"
      ],
      "metadata": {
        "id": "f1JuS9XpI58b"
      },
      "execution_count": null,
      "outputs": []
    },
    {
      "cell_type": "code",
      "source": [
        "from sklearn.metrics import accuracy_score,ConfusionMatrixDisplay, confusion_matrix\n",
        "ls.predict(x_test)\n",
        "accuracy_score(y_test, ls.predict(x_test)).round(2)*100\n",
        "print(accuracy_score(y_test, ls.predict(x_test)).round(2)*100)\n",
        "print(confusion_matrix(y_test, ls.predict(x_test)))\n",
        "label = [\"Paid\", \"Defaulted\"]\n",
        "ConfusionMatrixDisplay(confusion_matrix(y_test, ls.predict(x_test)),display_labels = label).plot()\n",
        "plt.title(\"Loan\")"
      ],
      "metadata": {
        "id": "Rwf7BuMpI5_g"
      },
      "execution_count": null,
      "outputs": []
    },
    {
      "cell_type": "code",
      "source": [
        "lp.fit(x_train,y_train)\n",
        "lp.score(x_train,y_train).round(2)*100"
      ],
      "metadata": {
        "id": "z-edBk8_IldX"
      },
      "execution_count": null,
      "outputs": []
    },
    {
      "cell_type": "code",
      "source": [
        "from sklearn.metrics import accuracy_score,ConfusionMatrixDisplay, confusion_matrix\n",
        "lp.predict(x_test)\n",
        "accuracy_score(y_test, lp.predict(x_test)).round(2)*100\n",
        "print(accuracy_score(y_test, lp.predict(x_test)).round(2)*100)\n",
        "print(confusion_matrix(y_test, lp.predict(x_test)))\n",
        "label = [\"Paid\", \"Defaulted\"]\n",
        "ConfusionMatrixDisplay(confusion_matrix(y_test, lp.predict(x_test)),display_labels = label).plot()\n",
        "plt.title(\"Loan\")"
      ],
      "metadata": {
        "colab": {
          "base_uri": "https://localhost:8080/",
          "height": 541
        },
        "id": "qhvFibcZMOE1",
        "outputId": "0d3b4576-7f55-4303-e9e4-37bb739d7cb0"
      },
      "execution_count": null,
      "outputs": [
        {
          "metadata": {
            "tags": null
          },
          "name": "stdout",
          "output_type": "stream",
          "text": [
            "78.0\n",
            "[[1389    0]\n",
            " [ 398    1]]\n"
          ]
        },
        {
          "data": {
            "text/plain": [
              "Text(0.5, 1.0, 'Loan')"
            ]
          },
          "execution_count": 387,
          "metadata": {},
          "output_type": "execute_result"
        },
        {
          "data": {
            "image/png": "[encoded data removed]",
            "text/plain": [
              "<Figure size 640x480 with 2 Axes>"
            ]
          },
          "metadata": {},
          "output_type": "display_data"
        }
      ]
    },
    {
      "cell_type": "code",
      "source": [
        "rf.fit(x_train,y_train)\n",
        "rf.score(x_train,y_train).round(2)*100"
      ],
      "metadata": {
        "id": "c2pvyKZaMOPZ"
      },
      "execution_count": null,
      "outputs": []
    },
    {
      "cell_type": "code",
      "source": [
        "from sklearn.metrics import accuracy_score,ConfusionMatrixDisplay, confusion_matrix\n",
        "rf.predict(x_test)\n",
        "accuracy_score(y_test, rf.predict(x_test)).round(2)*100\n",
        "print(accuracy_score(y_test, rf.predict(x_test)).round(2)*100)\n",
        "print(confusion_matrix(y_test, rf.predict(x_test)))\n",
        "label = [\"Paid\", \"Defaulted\"]\n",
        "ConfusionMatrixDisplay(confusion_matrix(y_test, rf.predict(x_test)),display_labels = label).plot()\n",
        "plt.title(\"Loan\")"
      ],
      "metadata": {
        "id": "a_NLYl81MOWY"
      },
      "execution_count": null,
      "outputs": []
    },
    {
      "cell_type": "code",
      "source": [
        "from sklearn.preprocessing import StandardScaler\n",
        "sc = StandardScaler()\n",
        "x_scale = sc.fit_transform(x)\n",
        "x_scale"
      ],
      "metadata": {
        "id": "OR38my2qMObQ"
      },
      "execution_count": null,
      "outputs": []
    },
    {
      "cell_type": "code",
      "source": [
        "#we need to convert it back to pandas data  frame\n",
        "x_scale = pd.DataFrame(x_scale,columns = [x.columns])\n",
        "x_scale"
      ],
      "metadata": {
        "id": "0-oVAnjgMOd4"
      },
      "execution_count": null,
      "outputs": []
    },
    {
      "cell_type": "code",
      "source": [
        "from sklearn.model_selection import train_test_split\n",
        "x_train_scale,x_test_scale,y_train_scale,y_test_scale = train_test_split(x_scale,y,train_size = 0.7, shuffle = True, random_state = 41)"
      ],
      "metadata": {
        "id": "8zGXX6tTMOg4"
      },
      "execution_count": null,
      "outputs": []
    },
    {
      "cell_type": "code",
      "source": [
        "print(f\"the shape of x_train:{x_train.shape}\")\n",
        "print(f\"the shape of x_test:{x_test.shape}\")\n",
        "print(f\"the shape of y_train:{y_train.shape}\")\n",
        "print(f\"the shape of y_test:{y_test.shape}\")"
      ],
      "metadata": {
        "id": "KGNH1wjFMOjg"
      },
      "execution_count": null,
      "outputs": []
    },
    {
      "cell_type": "code",
      "source": [
        "\n",
        "rf.fit(x_train_scale,y_train_scale)\n",
        "round(rf.score(x_train_scale, y_train_scale)*100, 2)"
      ],
      "metadata": {
        "id": "EIrOgq8hMOmU"
      },
      "execution_count": null,
      "outputs": []
    },
    {
      "cell_type": "code",
      "source": [
        "from sklearn.metrics import accuracy_score,ConfusionMatrixDisplay, confusion_matrix\n",
        "rf.predict(x_test_scale)\n",
        "accuracy_score(y_test_scale, rf.predict(x_test_scale)).round(2)*100\n",
        "print(accuracy_score(y_test_scale, rf.predict(x_test_scale)).round(2)*100)\n",
        "print(confusion_matrix(y_test_scale, rf.predict(x_test_scale)))\n",
        "label = [\"Paid\", \"Defaulted\"]\n",
        "ConfusionMatrixDisplay(confusion_matrix(y_test_scale, rf.predict(x_test_scale)),display_labels = label).plot()\n",
        "plt.title(\"Loan\")"
      ],
      "metadata": {
        "id": "N_yuGgq-MOpG"
      },
      "execution_count": null,
      "outputs": []
    },
    {
      "cell_type": "code",
      "source": [
        "\n",
        "xgb.fit(x_train_scale,y_train_scale)\n",
        "round(xgb.score(x_train_scale, y_train_scale)*100, 2)"
      ],
      "metadata": {
        "id": "Z_WT6T1oMOsn"
      },
      "execution_count": null,
      "outputs": []
    },
    {
      "cell_type": "code",
      "source": [
        "from sklearn.metrics import accuracy_score,ConfusionMatrixDisplay, confusion_matrix\n",
        "xgb.predict(x_test_scale)\n",
        "accuracy_score(y_test_scale, xgb.predict(x_test_scale)).round(2)*100\n",
        "print(accuracy_score(y_test_scale, xgb.predict(x_test_scale)).round(2)*100)\n",
        "print(confusion_matrix(y_test_scale, xgb.predict(x_test_scale)))\n",
        "label = [\"Paid\", \"Defaulted\"]\n",
        "ConfusionMatrixDisplay(confusion_matrix(y_test_scale, xgb.predict(x_test_scale)),display_labels = label).plot()\n",
        "plt.title(\"Loan\")"
      ],
      "metadata": {
        "id": "zQc7sfvFOWYb"
      },
      "execution_count": null,
      "outputs": []
    },
    {
      "cell_type": "code",
      "source": [
        "\n",
        "ls.fit(x_train_scale,y_train_scale)\n",
        "round(ls.score(x_train_scale, y_train_scale)*100, 2)"
      ],
      "metadata": {
        "id": "4j1y6uwoOopk"
      },
      "execution_count": null,
      "outputs": []
    },
    {
      "cell_type": "code",
      "source": [
        "from sklearn.metrics import accuracy_score,ConfusionMatrixDisplay, confusion_matrix\n",
        "ls.predict(x_test_scale)\n",
        "accuracy_score(y_test_scale, ls.predict(x_test_scale)).round(2)*100\n",
        "print(accuracy_score(y_test_scale, ls.predict(x_test_scale)).round(2)*100)\n",
        "print(confusion_matrix(y_test_scale, ls.predict(x_test_scale)))\n",
        "label = [\"Paid\", \"Defaulted\"]\n",
        "ConfusionMatrixDisplay(confusion_matrix(y_test_scale, ls.predict(x_test_scale)),display_labels = label).plot()\n",
        "plt.title(\"Loan\")"
      ],
      "metadata": {
        "id": "AA2iHFAxPDrK"
      },
      "execution_count": null,
      "outputs": []
    },
    {
      "cell_type": "code",
      "source": [
        "\n",
        "lp.fit(x_train_scale,y_train_scale)\n",
        "round(lp.score(x_train_scale, y_train_scale)*100, 2)"
      ],
      "metadata": {
        "id": "0pgSZGk3PTDn"
      },
      "execution_count": null,
      "outputs": []
    },
    {
      "cell_type": "code",
      "source": [
        "from sklearn.metrics import accuracy_score,ConfusionMatrixDisplay, confusion_matrix\n",
        "lp.predict(x_test_scale)\n",
        "accuracy_score(y_test_scale, lp.predict(x_test_scale)).round(2)*100\n",
        "print(accuracy_score(y_test_scale, lp.predict(x_test_scale)).round(2)*100)\n",
        "print(confusion_matrix(y_test_scale, lp.predict(x_test_scale)))\n",
        "label = [\"Paid\", \"Defaulted\"]\n",
        "ConfusionMatrixDisplay(confusion_matrix(y_test_scale, lp.predict(x_test_scale)),display_labels = label).plot()\n",
        "plt.title(\"Loan\")"
      ],
      "metadata": {
        "id": "KwOa2wS4Pe8N"
      },
      "execution_count": null,
      "outputs": []
    },
    {
      "cell_type": "code",
      "source": [
        "!pip install pickle"
      ],
      "metadata": {
        "id": "l8PofwFLPpUh"
      },
      "execution_count": null,
      "outputs": []
    },
    {
      "cell_type": "code",
      "source": [
        "import pickle as pk"
      ],
      "metadata": {
        "id": "cq59tkEXRCPf"
      },
      "execution_count": null,
      "outputs": []
    },
    {
      "cell_type": "code",
      "source": [
        "filename = \"xgb_model.pkl\"\n",
        "with open(filename,\"wb\") as file:\n",
        "    pk.dump(xgb,file)"
      ],
      "metadata": {
        "id": "IvwurMd-RRnn"
      },
      "execution_count": null,
      "outputs": []
    },
    {
      "cell_type": "code",
      "source": [
        "xgb_model = pk.load(open(\"xgb_model.pkl\",\"rb\"))"
      ],
      "metadata": {
        "id": "rKsZ46dzRtIe"
      },
      "execution_count": null,
      "outputs": []
    },
    {
      "cell_type": "code",
      "source": [
        "xgb_model(x_test_scale)"
      ],
      "metadata": {
        "id": "pD8_l7BwSJxA"
      },
      "execution_count": null,
      "outputs": []
    },
    {
      "cell_type": "code",
      "source": [],
      "metadata": {
        "id": "ur497bdxTIML"
      },
      "execution_count": null,
      "outputs": []
    }
  ]
}